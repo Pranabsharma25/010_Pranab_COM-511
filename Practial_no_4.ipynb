{
  "nbformat": 4,
  "nbformat_minor": 0,
  "metadata": {
    "colab": {
      "provenance": []
    },
    "kernelspec": {
      "name": "python3",
      "display_name": "Python 3"
    },
    "language_info": {
      "name": "python"
    }
  },
  "cells": [
    {
      "cell_type": "code",
      "execution_count": 1,
      "metadata": {
        "colab": {
          "base_uri": "https://localhost:8080/"
        },
        "id": "RGB6SfWzufyp",
        "outputId": "21bc4020-690d-4c39-bfb4-b15dd263f712"
      },
      "outputs": [
        {
          "output_type": "stream",
          "name": "stdout",
          "text": [
            "enter the number: 6\n",
            "the number is avilable in the list on index  5\n"
          ]
        }
      ],
      "source": [
        "#Linear_Search\n",
        "\n",
        "list0 = [1,2,3,4,5,6,7,8,9,10]\n",
        "len = len(list0)\n",
        "search = int(input(\"enter the number: \"))\n",
        "\n",
        "for i in range(0,len):\n",
        "  if search == list0[i]:\n",
        "    print(\"the number is avilable in the list on index \",i)\n",
        "else:\n",
        "  (\"the list is not present, please try again \") "
      ]
    },
    {
      "cell_type": "code",
      "source": [
        "#Binray Search\n",
        "\n"
      ],
      "metadata": {
        "id": "L_xRJ_j4vTH9"
      },
      "execution_count": 9,
      "outputs": []
    },
    {
      "cell_type": "code",
      "source": [],
      "metadata": {
        "id": "N8Qe_Qu4wVUs"
      },
      "execution_count": null,
      "outputs": []
    }
  ]
}